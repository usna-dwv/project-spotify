{
 "cells": [
  {
   "cell_type": "markdown",
   "metadata": {},
   "source": [
    "**SA433 &#x25aa; Data Wrangling and Visualization &#x25aa; Fall 2024**"
   ]
  },
  {
   "cell_type": "markdown",
   "metadata": {},
   "source": [
    "# Project 4. Exploring Tracks on Spotify"
   ]
  },
  {
   "cell_type": "markdown",
   "metadata": {},
   "source": [
    "Let's sharpen our Pandas skills while exploring trends in music.\n",
    "\n",
    "In this project, you'll explore a dataset, formerly posted on [Kaggle](https://www.kaggle.com), containing the following information on over 160,000 tracks on Spotify:\n",
    "\n",
    "| Column | Description |\n",
    "| :- | :- |\n",
    "| `id` | Spotify ID for the track |\n",
    "| `title` | Title of track |\n",
    "| `artists` | List of artists |\n",
    "| `year` | Release year |\n",
    "| `duration_ms` | Track length in milliseconds |\n",
    "| `popularity` | Measure between 0 and 100, based mostly on the total number of plays and recency of plays |\n",
    "| `tempo` | Beats per minute |\n",
    "| `loudness` | Average loudness of a track in decibels |\n",
    "| `mode` | 0 = Minor, 1 = Major |\n",
    "| `key` | Estimated key of track: 0 = C, 1 = C-sharp/D-flat, 2 = D, etc. |\n",
    "| `explicit` | 0 = No explicit content, 1 = Explicit content |\n",
    "| `acousticness` | Confidence measure from 0.0 to 1.0 of whether the track is acoustic |\n",
    "| `danceability` | Confidence measure from 0.0 to 1.0 of how danceable the track is, based on tempo, beat strength, etc. |\n",
    "| `energy` | Confidence measure from 0.0 to 1.0 of perceived energy, intensity and activity |\n",
    "| `instrumentalness` | Confidence measure from 0.0 to 1.0 of whether a track contains no vocals |\n",
    "| `liveness` | Confidence measure from 0.0 to 1.0 of whether an audience is in the recording |\n",
    "| `speechiness` | Confidence measure from 0.0 to 1.0 of whether a track contains spoken words |\n",
    "| `valence` | Confidence measure from 0.0 to 1.0 of the musical positiveness of a track |"
   ]
  },
  {
   "cell_type": "markdown",
   "metadata": {},
   "source": [
    "For more details on the various measures (especially `acousticness`, `danceability`, `energy`, `instrumentalness`, `liveness`, `speechiness` and `valence`, see [this page](https://developer.spotify.com/documentation/web-api/reference/get-audio-features)\n",
    "of the Spotify API documentation.\n",
    "\n",
    "*FYI.* [Here](https://www.kaggle.com/rodolfofigueroa/spotify-12m-songs) is a similar dataset that is still available on Kaggle."
   ]
  },
  {
   "cell_type": "markdown",
   "metadata": {},
   "source": [
    "<hr style=\"border-top: 2px solid gray; margin-top: 1px; margin-bottom: 1px\"></hr>"
   ]
  },
  {
   "cell_type": "markdown",
   "metadata": {},
   "source": [
    "## Setup"
   ]
  },
  {
   "cell_type": "markdown",
   "metadata": {},
   "source": [
    "First, run the code cell below to import Pandas and Numpy."
   ]
  },
  {
   "cell_type": "code",
   "execution_count": null,
   "metadata": {},
   "outputs": [],
   "source": [
    "import pandas as pd\n",
    "import numpy as np"
   ]
  },
  {
   "cell_type": "markdown",
   "metadata": {},
   "source": [
    "Next, in the same folder as this notebook is a CSV file, `data/spotify_oct2020.csv`, which contains the Spotify data described above. Run the code cell below to read this dataset into a DataFrame named `df`."
   ]
  },
  {
   "cell_type": "code",
   "execution_count": null,
   "metadata": {},
   "outputs": [],
   "source": [
    "df = pd.read_csv('data/spotify_oct2020.csv', converters={'artists': eval})"
   ]
  },
  {
   "cell_type": "markdown",
   "metadata": {},
   "source": [
    "Note that there is a keyword argument, `converters={'artists': eval}`. If you take a closer look at the raw CSV file, you'll see that the `artists` column contains data that look like this:\n",
    "\n",
    "```python\n",
    "\"['Drake', 'Santigold', 'Lil Wayne']\"\n",
    "```\n",
    "\n",
    "In other words, in each row, the `artists` column contains a list. The Python function `eval()` parses a string as a Python expression. By telling `pd.read_csv()` to use `eval` as a converter for the `artists` column, we can read in these lists.\n",
    "\n",
    "Finally, run the code cell below to take a peek at the dataset. You can see that the values in the `artists` column are lists."
   ]
  },
  {
   "cell_type": "code",
   "execution_count": null,
   "metadata": {},
   "outputs": [],
   "source": [
    "df.head()"
   ]
  },
  {
   "cell_type": "markdown",
   "metadata": {},
   "source": [
    "<hr style=\"border-top: 2px solid gray; margin-top: 1px; margin-bottom: 1px\"></hr>"
   ]
  },
  {
   "cell_type": "markdown",
   "metadata": {},
   "source": [
    "## Problem 1"
   ]
  },
  {
   "cell_type": "markdown",
   "metadata": {},
   "source": [
    "Using a single method chain, create a table showing the top 10 tracks by popularity value. The table should show the title, artists, release year, and popularity value. The top 3 rows should look like this:\n",
    "\n",
    "<table border=\"1\" class=\"dataframe\">\n",
    "  <thead>\n",
    "    <tr style=\"text-align: right;\">\n",
    "      <th></th>\n",
    "      <th>title</th>\n",
    "      <th>artists</th>\n",
    "      <th>year</th>\n",
    "      <th>popularity</th>\n",
    "    </tr>\n",
    "  </thead>\n",
    "  <tbody>\n",
    "    <tr>\n",
    "      <th>87942</th>\n",
    "      <td>Blinding Lights</td>\n",
    "      <td>[The Weeknd]</td>\n",
    "      <td>2020</td>\n",
    "      <td>100</td>\n",
    "    </tr>\n",
    "    <tr>\n",
    "      <th>87940</th>\n",
    "      <td>ROCKSTAR (feat. Roddy Ricch)</td>\n",
    "      <td>[DaBaby, Roddy Ricch]</td>\n",
    "      <td>2020</td>\n",
    "      <td>99</td>\n",
    "    </tr>\n",
    "    <tr>\n",
    "      <th>87949</th>\n",
    "      <td>death bed (coffee for your head) (feat. beabadoobee)</td>\n",
    "      <td>[Powfu, beabadoobee]</td>\n",
    "      <td>2020</td>\n",
    "      <td>97</td>\n",
    "    </tr>\n",
    "  </tbody>\n",
    "</table>"
   ]
  },
  {
   "cell_type": "code",
   "execution_count": null,
   "metadata": {},
   "outputs": [],
   "source": []
  },
  {
   "cell_type": "markdown",
   "metadata": {},
   "source": [
    "## Problem 2"
   ]
  },
  {
   "cell_type": "markdown",
   "metadata": {},
   "source": [
    "Using a single method chain, find the values below for the tracks released after the year 2000:\n",
    "\n",
    "1. Average duration of a track, in milliseconds.\n",
    "2. Average popularity of tracks.\n",
    "3. Fraction of explicit tracks."
   ]
  },
  {
   "cell_type": "code",
   "execution_count": null,
   "metadata": {},
   "outputs": [],
   "source": []
  },
  {
   "cell_type": "markdown",
   "metadata": {},
   "source": [
    "## Problem 3"
   ]
  },
  {
   "cell_type": "markdown",
   "metadata": {},
   "source": [
    "We may be interested in how tracks differ across decades. First, we need to compute the decade for each track. We can do this using the `np.floor()` function from NumPy and the `.astype()` Series method, like this:"
   ]
  },
  {
   "cell_type": "code",
   "execution_count": null,
   "metadata": {},
   "outputs": [],
   "source": [
    "(np.floor(df['year'] / 10) * 10).astype(int)"
   ]
  },
  {
   "cell_type": "markdown",
   "metadata": {},
   "source": [
    "Using a single method chain, create a table that shows the median danceability value for tracks in each decade, sorted from highest to lowest danceability values. The first 3 rows should look like this:\n",
    "\n",
    "<table border=\"1\" class=\"dataframe\">\n",
    "  <thead>\n",
    "    <tr style=\"text-align: right;\">\n",
    "      <th></th>\n",
    "      <th>decade</th>\n",
    "      <th>median_danceability</th>\n",
    "    </tr>\n",
    "  </thead>\n",
    "  <tbody>\n",
    "    <tr>\n",
    "      <th>10</th>\n",
    "      <td>2020</td>\n",
    "      <td>0.693</td>\n",
    "    </tr>\n",
    "    <tr>\n",
    "      <th>0</th>\n",
    "      <td>1920</td>\n",
    "      <td>0.624</td>\n",
    "    </tr>\n",
    "    <tr>\n",
    "      <th>9</th>\n",
    "      <td>2010</td>\n",
    "      <td>0.612</td>\n",
    "    </tr>\n",
    "  </tbody>\n",
    "</table>"
   ]
  },
  {
   "cell_type": "code",
   "execution_count": null,
   "metadata": {},
   "outputs": [],
   "source": []
  },
  {
   "cell_type": "markdown",
   "metadata": {},
   "source": [
    "## Problem 4"
   ]
  },
  {
   "cell_type": "markdown",
   "metadata": {},
   "source": [
    "Recall that the variable `artists` actually contains a *list* of strings. For the sake of simplicity, for each track, let's assign credit to the first artist in the list.\n",
    "\n",
    "We can extract the first artist in each list in the variable `artists` into a Series using the `.str.get()` method, as follows:"
   ]
  },
  {
   "cell_type": "code",
   "execution_count": null,
   "metadata": {},
   "outputs": [],
   "source": [
    "df['artists'].str.get(0)"
   ]
  },
  {
   "cell_type": "markdown",
   "metadata": {},
   "source": [
    "Using a single method chain, create a table that shows the artists with the top 10 highest number of tracks released after 2000. Sort the rows from highest to lowest number of tracks. The first 3 rows should look like this:\n",
    "\n",
    "\n",
    "<table border=\"1\" class=\"dataframe\">\n",
    "  <thead>\n",
    "    <tr style=\"text-align: right;\">\n",
    "      <th></th>\n",
    "      <th>first_artist</th>\n",
    "      <th>count</th>\n",
    "    </tr>\n",
    "  </thead>\n",
    "  <tbody>\n",
    "    <tr>\n",
    "      <th>2161</th>\n",
    "      <td>Drake</td>\n",
    "      <td>205</td>\n",
    "    </tr>\n",
    "    <tr>\n",
    "      <th>7219</th>\n",
    "      <td>Taylor Swift</td>\n",
    "      <td>201</td>\n",
    "    </tr>\n",
    "    <tr>\n",
    "      <th>2399</th>\n",
    "      <td>Eminem</td>\n",
    "      <td>184</td>\n",
    "    </tr>\n",
    "  </tbody>\n",
    "</table>"
   ]
  },
  {
   "cell_type": "code",
   "execution_count": null,
   "metadata": {},
   "outputs": [],
   "source": []
  },
  {
   "cell_type": "markdown",
   "metadata": {},
   "source": [
    "## Problem 5"
   ]
  },
  {
   "cell_type": "markdown",
   "metadata": {},
   "source": [
    "Using a single method chain, create a table that shows the artists with the top 10 average track popularity values. Limit the table to artists that have 10 or more tracks in the dataset. Sort the rows from highest to lowest average popularity value. The first 3 rows should look like this:\n",
    "\n",
    "<table border=\"1\" class=\"dataframe\">\n",
    "  <thead>\n",
    "    <tr style=\"text-align: right;\">\n",
    "      <th></th>\n",
    "      <th>first_artist</th>\n",
    "      <th>mean_popularity</th>\n",
    "    </tr>\n",
    "  </thead>\n",
    "  <tbody>\n",
    "    <tr>\n",
    "      <th>6888</th>\n",
    "      <td>Harry Styles</td>\n",
    "      <td>77.038462</td>\n",
    "    </tr>\n",
    "    <tr>\n",
    "      <th>1864</th>\n",
    "      <td>Billie Eilish</td>\n",
    "      <td>76.560976</td>\n",
    "    </tr>\n",
    "    <tr>\n",
    "      <th>9855</th>\n",
    "      <td>Lewis Capaldi</td>\n",
    "      <td>76.250000</td>\n",
    "    </tr>\n",
    "  </tbody>\n",
    "</table>"
   ]
  },
  {
   "cell_type": "code",
   "execution_count": null,
   "metadata": {},
   "outputs": [],
   "source": []
  },
  {
   "cell_type": "markdown",
   "metadata": {},
   "source": [
    "## Problem 6"
   ]
  },
  {
   "cell_type": "markdown",
   "metadata": {},
   "source": [
    "Ask your own question about the tracks in the Spotify dataset. Using a single method chain, produce a table that answers your question. In a few sentences, write about your findings."
   ]
  },
  {
   "cell_type": "markdown",
   "metadata": {},
   "source": [
    "*Write your question here.*"
   ]
  },
  {
   "cell_type": "code",
   "execution_count": null,
   "metadata": {},
   "outputs": [],
   "source": [
    "# Write your code here."
   ]
  },
  {
   "cell_type": "markdown",
   "metadata": {},
   "source": [
    "*Write about your findings here.*"
   ]
  },
  {
   "cell_type": "markdown",
   "metadata": {},
   "source": [
    "<hr style=\"border-top: 2px solid gray; margin-top: 1px; margin-bottom: 1px\"></hr>"
   ]
  },
  {
   "cell_type": "markdown",
   "metadata": {},
   "source": [
    "## Grading rubric"
   ]
  },
  {
   "cell_type": "markdown",
   "metadata": {},
   "source": [
    "| Problem |                                                                         | Points  |\n",
    "| :-      | :-                                                                      | -:      |\n",
    "| 1       | Sorts by popularity in descending order                                 | 3       |\n",
    "|         | Shows only columns for title, artists, release year, and popularity     | 3       |\n",
    "|         | Shows only top 10 tracks                                                | 3       |\n",
    "|         | Uses a single method chain                                              | 2       |\n",
    "|         | Code runs without errors                                                | 4       |\n",
    "| 2       | Filters for tracks released after 2000                                  | 3       |\n",
    "|         | Computes average duration of track                                      | 3       |\n",
    "|         | Computes average popularity of tracks                                   | 3       |\n",
    "|         | Computes fraction of explicit tracks                                    | 3       |\n",
    "|         | Uses a single method chain                                              | 2       |\n",
    "|         | Code runs without errors                                                | 4       |\n",
    "| 3       | Computes decade for each track                                          | 3       |\n",
    "|         | Computes median danceability for each decade                            | 3       |\n",
    "|         | Sorts by median danceability in descending order                        | 3       |\n",
    "|         | Uses a single method chain                                              | 2       |\n",
    "|         | Code runs without errors                                                | 4       |\n",
    "| 4       | Filters for tracks released after 2000                                  | 3       |\n",
    "|         | Extracts first artist                                                   | 3       |\n",
    "|         | Computes number of tracks per artist                                    | 3       |\n",
    "|         | Sorts by number of tracks per artist in descending order                | 3       |\n",
    "|         | Uses a single method chain                                              | 2       |\n",
    "|         | Code runs without errors                                                | 4       |\n",
    "| 5       | Extracts first artist                                                   | 3       |\n",
    "|         | Computes average popularity for each artist                             | 3       |\n",
    "|         | Filters for artists with 10 or more tracks                              | 3       |\n",
    "|         | Sorts by average popularity in descending order                         | 3       |\n",
    "|         | Shows only columns for artist and popularity                            | 3       |\n",
    "|         | Uses a single method chain                                              | 2       |\n",
    "|         | Code runs without errors                                                | 4       |\n",
    "| 6       | Asks a reasonable question about the tracks in the Spotify dataset      | 3       |\n",
    "|         | Uses a single method chain to produce a table that answers the question | 4       |\n",
    "|         | Code runs without errors                                                | 3       |\n",
    "|         | Writes a few sentences explaining the findings                          | 3       |\n",
    "|         | **Total**                                                               | **100** |"
   ]
  }
 ],
 "metadata": {
  "kernelspec": {
   "display_name": "Python 3 (ipykernel)",
   "language": "python",
   "name": "python3"
  },
  "language_info": {
   "codemirror_mode": {
    "name": "ipython",
    "version": 3
   },
   "file_extension": ".py",
   "mimetype": "text/x-python",
   "name": "python",
   "nbconvert_exporter": "python",
   "pygments_lexer": "ipython3",
   "version": "3.11.6"
  }
 },
 "nbformat": 4,
 "nbformat_minor": 4
}
